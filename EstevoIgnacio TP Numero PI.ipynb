{
 "cells": [
  {
   "cell_type": "markdown",
   "metadata": {},
   "source": [
    "<h1>TP 1 Estevo Ignacio Numero PI</h1>"
   ]
  },
  {
   "cell_type": "markdown",
   "metadata": {},
   "source": [
    "a) Number PI from the math library"
   ]
  },
  {
   "cell_type": "code",
   "execution_count": 2,
   "metadata": {},
   "outputs": [
    {
     "name": "stdout",
     "output_type": "stream",
     "text": [
      "3.141592653589793\n"
     ]
    }
   ],
   "source": [
    "import math\n",
    "\n",
    "piMath = math.pi\n",
    "print(piMath)"
   ]
  },
  {
   "cell_type": "markdown",
   "metadata": {},
   "source": [
    "b) Gauss-Legendre using float"
   ]
  },
  {
   "cell_type": "code",
   "execution_count": 27,
   "metadata": {},
   "outputs": [
    {
     "name": "stdout",
     "output_type": "stream",
     "text": [
      "Gauss-Legendre 10-step approximation of PI using floats in Python:  3.141592653589794\n"
     ]
    }
   ],
   "source": [
    "#Initial values\n",
    "\n",
    "\n",
    "def pi_gaussLegendre():\n",
    "    #Initial values in float\n",
    "    a = 1.0\n",
    "    b = 1.0/math.sqrt(2)\n",
    "    t = 1.0/4.0\n",
    "    p = 1.0\n",
    "    pi = 0\n",
    "    \n",
    "    for i in range(10): # I use 10 iterations, more can be used for more precision.\n",
    "        an  = (a + b) / 2\n",
    "        b   = math.sqrt(a * b)\n",
    "        t  -= p*(a - an)*(a - an)\n",
    "        a  = an\n",
    "        p  =2*p\n",
    "        pi    = (a + b)*(a + b)/(4 * t)\n",
    "       \n",
    "    return pi\n",
    "    \n",
    "print(\"Gauss-Legendre 10-step approximation of PI using floats in Python: \",pi_gaussLegendre())\n"
   ]
  },
  {
   "cell_type": "markdown",
   "metadata": {},
   "source": [
    "c) Gauss-Legendre using Decimal"
   ]
  },
  {
   "cell_type": "code",
   "execution_count": 47,
   "metadata": {},
   "outputs": [
    {
     "name": "stdout",
     "output_type": "stream",
     "text": [
      "Gauss-Legendre 100 digit approximation of PI using Decimal in Python: \n",
      "3.14159265358979323846264338327950288419716939937510582097494459230781640628620899862803482534211706798\n"
     ]
    }
   ],
   "source": [
    "import decimal\n",
    "\n",
    "def pi_gauss_legendre():\n",
    "    D = decimal.Decimal\n",
    "    with decimal.localcontext() as ctx:\n",
    "        ctx.prec += 2                \n",
    "        a, b, t, p = 1, 1/D(2).sqrt(), 1/D(4), 1                \n",
    "        pi = None\n",
    "        while 1: #We manually break out of the while when achieved the desired presicion\n",
    "            an = (a + b) / 2\n",
    "            b  = (a * b).sqrt()\n",
    "            t -= p * (a - an) * (a - an)\n",
    "            a  = an\n",
    "            p  = 2*p\n",
    "            piold = pi\n",
    "            pi    = (a+b)*(a+b)/(4*t)\n",
    "            if pi == piold:  #precision level\n",
    "                break\n",
    "    return pi\n",
    "\n",
    "decimal.getcontext().prec = 100\n",
    "print(\"Gauss-Legendre 100 digit approximation of PI using Decimal in Python: \")\n",
    "print(pi_gauss_legendre())"
   ]
  },
  {
   "cell_type": "markdown",
   "metadata": {},
   "source": [
    "d) Spigot Algorithm to calculate the first n digits of PI"
   ]
  },
  {
   "cell_type": "code",
   "execution_count": 68,
   "metadata": {},
   "outputs": [
    {
     "name": "stdout",
     "output_type": "stream",
     "text": [
      "Float implementation:\n",
      "first 5 digits: 3.1415926535897922\n",
      "first 10 digits: 3.1415926535897922\n",
      "first 16 digits: 3.1415926535897922 \n",
      "\n",
      "----------------\n",
      "\n",
      "Decimal implementation:\n",
      "first 10 digits: 3.141592654\n",
      "first 25 digits: 3.141592653589793194230158\n",
      "first 50 digits: 3.1415926535897931942301583820292867422156361140719\n"
     ]
    }
   ],
   "source": [
    "\n",
    "\n",
    "def pi_spigot(n):\n",
    "    pi = 0.0\n",
    "    for i in range(0,100): #Only used 100 iterations though infinity is more accurate\n",
    "        pi += ((math.factorial(i)**2)*2**(i+1))/(math.factorial((2*i) + 1))\n",
    "    return pi\n",
    "\n",
    "#As we are using floats we cannot exceed 16 digits\n",
    "print(\"Float implementation:\")\n",
    "print(\"first 5 digits:\",pi_spigot(5))\n",
    "print(\"first 10 digits:\",pi_spigot(10))\n",
    "print(\"first 16 digits:\",pi_spigot(16),\"\\n\")\n",
    "\n",
    "def pi_spigot_decimal(n):\n",
    "    D = decimal.Decimal\n",
    "    decimal.getcontext().prec = n\n",
    "    pi = D(0)\n",
    "    for i in range(0,100): #I used 0 to n, but it didn't ensure the precision of the n first numbers. So 0, 100 seemed more precise\n",
    "        pi += D(((math.factorial(i)**2)*2**(i+1))/(math.factorial((2*i) + 1)))\n",
    "    return pi\n",
    "\n",
    "\n",
    "print(\"----------------\\n\")\n",
    "print(\"Decimal implementation:\")\n",
    "print(\"first 10 digits:\",pi_spigot_decimal(10))\n",
    "print(\"first 25 digits:\",pi_spigot_decimal(25))\n",
    "print(\"first 50 digits:\",pi_spigot_decimal(50)) #With 100 repetitions it still doesn't ensure the full precision. It needs to be taken into account that the algorithm\n",
    "                                                # originally specifies the sum from 0 to infinity.\n"
   ]
  },
  {
   "cell_type": "markdown",
   "metadata": {},
   "source": [
    "<h2>Analisis de resultados</h2>"
   ]
  },
  {
   "cell_type": "code",
   "execution_count": 63,
   "metadata": {},
   "outputs": [
    {
     "data": {
      "text/plain": [
       "6.257552732868987e-06"
      ]
     },
     "execution_count": 63,
     "metadata": {},
     "output_type": "execute_result"
    }
   ],
   "source": [
    "math.pi - pi_spigot(16) "
   ]
  },
  {
   "cell_type": "markdown",
   "metadata": {},
   "source": [
    "<p>\n",
    "La aproximación que nos provee la libreria de math de Python nos muestra a PI en formato float. 16 digitos (15 decimales) de los cuales todos son correctos. No podemos asegurar si están truncados o si es simétrico ya que el próximo dígito no afectaría en ninguno.\n",
    "    \n",
    "La aproximación hecha con el metodo de Gauss-Legendre usando float y 10 iteraciones nos da un error. El último dígito es 4 en vez de 3. Esto puede ocurrir debido a que sea una aproximación truncada y que el proximo digito haya sido aproximado incorrectamente. 1x10^-15\n",
    "    \n",
    "Por otro lado, la aproximación realizada con el mismo metodo pero usando una precision de 100 decimales (con Decimal) correctamente computó los primeros 100 decimales de PI sin ningun error. Dando un error porcentual/relativo de 0.\n",
    "    \n",
    "La aproximación usando el algoritmo Spigot con solo 100 iteraciones y usando float para aproximar los primeros 16 digitos da un error absoluto de solo el ultimo decimal: 1x10^-15\n",
    "</p>"
   ]
  },
  {
   "cell_type": "code",
   "execution_count": 69,
   "metadata": {},
   "outputs": [
    {
     "name": "stdout",
     "output_type": "stream",
     "text": [
      "Circle of radius 4 and Python Math PI with float:  50.26548245743669\n",
      "Circle of radius 4 and Gauss-Legendre approximation of PI with float:  50.265482457436704\n",
      "Circle of radius 4 and Gauss-Legendre approximation of PI with Decimal:  50.26548245743669181540229413248\n",
      "Circle of radius 4 and Spigot-approximated PI:  50.265482457436691107682534112468587875450177825150\n"
     ]
    }
   ],
   "source": [
    "import decimal\n",
    "piMath = math.pi\n",
    "pi_gauss_float = pi_gaussLegendre()\n",
    "pi_gauss_decimal = pi_gauss_legendre()\n",
    "pi_spigot_decimal = pi_spigot_decimal(50)\n",
    "\n",
    "def areaCircle(r,pi):\n",
    "    return pi*r**2\n",
    "\n",
    "print(\"Circle of radius 4 and Python Math PI with float: \",areaCircle(4,piMath))\n",
    "print(\"Circle of radius 4 and Gauss-Legendre approximation of PI with float: \",areaCircle(4,pi_gauss_float))\n",
    "print(\"Circle of radius 4 and Gauss-Legendre approximation of PI with Decimal: \",areaCircle(4,pi_gauss_decimal))\n",
    "print(\"Circle of radius 4 and Spigot-approximated PI: \",areaCircle(4,pi_spigot_decimal))"
   ]
  },
  {
   "cell_type": "markdown",
   "metadata": {},
   "source": [
    "Dependiendo del grado que se necesite se pueden usar las diferentes aproximaciones. A 2 decimales todas son correctas, por lo que no habría problema con eso.\n",
    "Segun lo calculado en el notebook, si necesitamos una precision mas elevada con la que podamos ver decenas y centenas de decimales podemos usar el metodo de Gauss-Legendre, mientras que para calcular un area donde posiblemente redondeemos con 2 o 3 decimales no tendriamos problemas al utilizar la que Python mismo nos provee con la libreria math.\n",
    "Python tambien posee otras librerias que pueden computar PI con mayor precisión, aunque no suele ser necesario para uso habitual ya que a mayor precision y mayores digitos calculados, el uso de memoria se verá afectado.\n",
    "\n",
    "fuente: https://en.wikipedia.org/wiki/Approximations_of_%CF%80\n",
    "Ahi se discuten sobre las diferentes aproximaciones de PI a lo largo de la historia. Se analizan los metodos usados para calcular la constante con diferentes grados de precisión."
   ]
  },
  {
   "cell_type": "code",
   "execution_count": null,
   "metadata": {},
   "outputs": [],
   "source": []
  }
 ],
 "metadata": {
  "kernelspec": {
   "display_name": "Python 3",
   "language": "python",
   "name": "python3"
  },
  "language_info": {
   "codemirror_mode": {
    "name": "ipython",
    "version": 3
   },
   "file_extension": ".py",
   "mimetype": "text/x-python",
   "name": "python",
   "nbconvert_exporter": "python",
   "pygments_lexer": "ipython3",
   "version": "3.8.5"
  }
 },
 "nbformat": 4,
 "nbformat_minor": 4
}
