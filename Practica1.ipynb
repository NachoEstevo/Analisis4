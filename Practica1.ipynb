{
 "cells": [
  {
   "cell_type": "markdown",
   "metadata": {},
   "source": [
    "<h1>Guia 1 Python Teoria de error</h1>"
   ]
  },
  {
   "cell_type": "code",
   "execution_count": 3,
   "metadata": {},
   "outputs": [],
   "source": [
    "import math"
   ]
  },
  {
   "cell_type": "code",
   "execution_count": 4,
   "metadata": {},
   "outputs": [
    {
     "name": "stdout",
     "output_type": "stream",
     "text": [
      "0.0012644892673496777\n"
     ]
    }
   ],
   "source": [
    "first = 22/7\n",
    "errOne = abs(math.pi - first)\n",
    "print(errOne)"
   ]
  },
  {
   "cell_type": "code",
   "execution_count": 5,
   "metadata": {},
   "outputs": [
    {
     "name": "stdout",
     "output_type": "stream",
     "text": [
      "8.32196275291075e-05\n"
     ]
    }
   ],
   "source": [
    "second = 333/106\n",
    "errTwo = abs(math.pi - second)\n",
    "print(errTwo)"
   ]
  },
  {
   "cell_type": "code",
   "execution_count": 6,
   "metadata": {},
   "outputs": [
    {
     "name": "stdout",
     "output_type": "stream",
     "text": [
      "2.667641894049666e-07\n"
     ]
    }
   ],
   "source": [
    "third = 355/113\n",
    "errThree = abs(math.pi - third)\n",
    "print(errThree)"
   ]
  },
  {
   "cell_type": "markdown",
   "metadata": {},
   "source": [
    "Errores relativos y porcentuales  er(x) = e(x)/X  ejemplo 0.00059/3.141 ese es el relativo. Multiplicado por 100 da el porcentual "
   ]
  },
  {
   "cell_type": "code",
   "execution_count": 7,
   "metadata": {},
   "outputs": [
    {
     "name": "stdout",
     "output_type": "stream",
     "text": [
      "relative one:  0.0004024994347707008\n",
      "relative two:  2.648963016704766e-05\n",
      "relative three:  8.49136787674061e-08\n",
      "----------------------\n",
      "porcentual one:  0.04 %\n",
      "porcentual two:  0.003 %\n",
      "porcentual three:  0.0 %\n"
     ]
    }
   ],
   "source": [
    "relOne = errOne/math.pi\n",
    "relTwo = errTwo/math.pi\n",
    "relThree = errThree/math.pi\n",
    "\n",
    "print('relative one: ', relOne)\n",
    "print('relative two: ', relTwo)\n",
    "print('relative three: ', relThree)\n",
    "\n",
    "print('----------------------')\n",
    "\n",
    "print('porcentual one: ', round(relOne*100,3),'%')\n",
    "print('porcentual two: ', round(relTwo*100,3),'%')\n",
    "print('porcentual three: ', round(relThree*100,3),'%')\n"
   ]
  },
  {
   "cell_type": "markdown",
   "metadata": {},
   "source": [
    "Calculo de error de otro numero irracional. e"
   ]
  },
  {
   "cell_type": "code",
   "execution_count": 13,
   "metadata": {},
   "outputs": [
    {
     "name": "stdout",
     "output_type": "stream",
     "text": [
      "0.0017181715409551046\n",
      "Cotas:  2.718281828459045 < e < 2.7217181715409553\n"
     ]
    }
   ],
   "source": [
    "firstE = 2.72\n",
    "errOneE = abs(math.e - firstE)\n",
    "print(errOneE)\n",
    "print('Cotas: ',firstE-errOneE,'< e <',firstE + errOneE)"
   ]
  },
  {
   "cell_type": "code",
   "execution_count": 15,
   "metadata": {},
   "outputs": [
    {
     "name": "stdout",
     "output_type": "stream",
     "text": [
      "0.0002818284590451192\n",
      "Cotas:  2.717718171540955 < e < 2.718281828459045\n"
     ]
    }
   ],
   "source": [
    "secondE = 2.718\n",
    "errTwoE = abs(math.e - secondE)\n",
    "print(errTwoE)\n",
    "print('Cotas: ',secondE-errTwoE,'< e <',secondE + errTwoE)"
   ]
  },
  {
   "cell_type": "code",
   "execution_count": 17,
   "metadata": {},
   "outputs": [
    {
     "name": "stdout",
     "output_type": "stream",
     "text": [
      "1.8171540955069787e-05\n",
      "Cotas:  2.718281828459045 < e < 2.7183181715409552\n"
     ]
    }
   ],
   "source": [
    "thirdE = 2.7183\n",
    "errThreeE = abs(math.e - thirdE)\n",
    "print(errThreeE)\n",
    "print('Cotas: ',thirdE-errThreeE,'< e <',thirdE + errThreeE)"
   ]
  },
  {
   "cell_type": "code",
   "execution_count": 11,
   "metadata": {},
   "outputs": [
    {
     "name": "stdout",
     "output_type": "stream",
     "text": [
      "relative one:  0.0006320799863232398\n",
      "relative two:  0.00010367889601972718\n",
      "relative three:  6.684936331775051e-06\n",
      "----------------------\n",
      "porcentual one:  0.063 %\n",
      "porcentual two:  0.01 %\n",
      "porcentual three:  0.001 %\n"
     ]
    }
   ],
   "source": [
    "relOneE = errOneE/math.e\n",
    "relTwoE = errTwoE/math.e\n",
    "relThreeE = errThreeE/math.e\n",
    "\n",
    "print('relative one: ', relOneE)\n",
    "print('relative two: ', relTwoE)\n",
    "print('relative three: ', relThreeE)\n",
    "\n",
    "print('----------------------')\n",
    "\n",
    "print('porcentual one: ', round(relOneE*100,3),'%')\n",
    "print('porcentual two: ', round(relTwoE*100,3),'%')\n",
    "print('porcentual three: ', round(relThreeE*100,3),'%')"
   ]
  },
  {
   "cell_type": "code",
   "execution_count": null,
   "metadata": {},
   "outputs": [],
   "source": []
  },
  {
   "cell_type": "markdown",
   "metadata": {},
   "source": [
    "<h2>Ejercicio 2</h2>"
   ]
  },
  {
   "cell_type": "markdown",
   "metadata": {},
   "source": [
    "En 1862 el fisico Foucault, utilizando un espejo giratorio, calculo en 298000 km/s la velocidad\n",
    "de la luz. Aceptando como exacta la velocidad de 299776 km/s, calcular el error absoluto y el\n",
    "error relativo cometido por Foucault.\n",
    "Por otra parte, la determinacion de la constante universal h, que desempena un papel central\n",
    "en la teoria de la mecanica cuantica, realizada por Planck en 1913 dio el valor de 6.41 x 10-27\n",
    "erg por seg. Adoptando el valor de 6.623 x 10-27 erg por seg, calcular el error absoluto y relativo\n",
    "cometido por Planck.\n",
    ".Que medida tiene menor error absoluto? .Cual es mas precisa?\n"
   ]
  },
  {
   "cell_type": "code",
   "execution_count": 43,
   "metadata": {},
   "outputs": [
    {
     "name": "stdout",
     "output_type": "stream",
     "text": [
      "1776\n",
      "0.005924423569598634\n",
      "0.592 %\n"
     ]
    }
   ],
   "source": [
    "lSpeedFoucalt = 298000\n",
    "lSpeed = 299776\n",
    "\n",
    "absError = abs(lSpeed - lSpeedFoucalt)\n",
    "print(absError)\n",
    "\n",
    "relError = absError/lSpeed\n",
    "print(relError)\n",
    "\n",
    "percentError = relError*100\n",
    "print(round(percentError,3),'%')"
   ]
  },
  {
   "cell_type": "code",
   "execution_count": 45,
   "metadata": {},
   "outputs": [
    {
     "name": "stdout",
     "output_type": "stream",
     "text": [
      "2.1300000000000006e-28\n",
      "0.03216065227238413\n",
      "3.216 %\n",
      "2.624\n"
     ]
    }
   ],
   "source": [
    "planck = 6.41*(10**-27)\n",
    "realConstant = 6.623*(10**-27)\n",
    "\n",
    "absError2 = abs(realConstant - planck)\n",
    "print(absError2)\n",
    "\n",
    "relError2 = absError2/realConstant\n",
    "print(relError2)\n",
    "\n",
    "percentError2 = relError2*100\n",
    "print(round(percentError2,3),'%')"
   ]
  },
  {
   "cell_type": "markdown",
   "metadata": {},
   "source": [
    "The approximation for the speed of light, made by Foucault was 2.624% more accurate than the one made by Planck"
   ]
  },
  {
   "cell_type": "markdown",
   "metadata": {},
   "source": [
    "<h2>Ejercicio 3</h2>"
   ]
  },
  {
   "cell_type": "code",
   "execution_count": 25,
   "metadata": {},
   "outputs": [
    {
     "name": "stdout",
     "output_type": "stream",
     "text": [
      "2.5937424601000023\n",
      "absolute error: 0.12453936835904278\n"
     ]
    }
   ],
   "source": [
    "#Approximate e with the limit\n",
    "def aproxE(n):\n",
    "   return((1+1/n)**n)\n",
    "\n",
    "val1 = aproxE(10)\n",
    "print(val1)\n",
    "\n",
    "absErr1 = abs(math.e - val1)\n",
    "print('absolute error:',absErr1)"
   ]
  },
  {
   "cell_type": "code",
   "execution_count": 26,
   "metadata": {},
   "outputs": [
    {
     "name": "stdout",
     "output_type": "stream",
     "text": [
      "2.7048138294215285\n",
      "absolute error: 0.01346799903751661\n"
     ]
    }
   ],
   "source": [
    "val2 = aproxE(100)\n",
    "print(val2)\n",
    "\n",
    "absErr2 = abs(math.e - val2)\n",
    "print('absolute error:',absErr2)"
   ]
  },
  {
   "cell_type": "code",
   "execution_count": 27,
   "metadata": {},
   "outputs": [
    {
     "name": "stdout",
     "output_type": "stream",
     "text": [
      "1.0\n",
      "absolute error: 1.718281828459045\n"
     ]
    }
   ],
   "source": [
    "val3 = aproxE(10**25) #Se aleja mas del valor esperado. Obtenemos e al resolver la indeterminacion cuando x tiende a inf\n",
    "print(val3)\n",
    "\n",
    "absErr3 = abs(math.e - val3)\n",
    "print('absolute error:',absErr3)"
   ]
  },
  {
   "cell_type": "markdown",
   "metadata": {},
   "source": [
    "<h2>Ejercicio 4</h2>"
   ]
  },
  {
   "cell_type": "code",
   "execution_count": 53,
   "metadata": {},
   "outputs": [
    {
     "name": "stdout",
     "output_type": "stream",
     "text": [
      "Sin derivate in: 1 with h = 0.1 = 0.497\n",
      "Cos derivate in: 1 with h = 0.1 = -0.867 \n",
      "\n",
      "Sin derivate in: 1 with h = 0.01 = 0.536\n",
      "Cos derivate in: 1 with h = 0.01 = -0.844 \n",
      "\n",
      "Sin derivate in: 1 with h = 1e-30 = 0.0\n",
      "Cos derivate in: 1 with h = 1e-30 = 0.0 \n",
      "\n",
      "Sin derivate in: 0.5 with h = 0.1 = 0.852\n",
      "Cos derivate in: 0.5 with h = 0.1 = -0.522 \n",
      "\n",
      "Sin derivate in: 0.5 with h = 0.01 = 0.875\n",
      "Cos derivate in: 0.5 with h = 0.01 = -0.484 \n",
      "\n",
      "Sin derivate in: 0.5 with h = 1e-30 = 0.0\n",
      "Cos derivate in: 0.5 with h = 1e-30 = 0.0 \n",
      "\n",
      "Sin derivate in: 0.1 with h = 0.1 = 0.988\n",
      "Cos derivate in: 0.1 with h = 0.1 = -0.149 \n",
      "\n",
      "Sin derivate in: 0.1 with h = 0.01 = 0.994\n",
      "Cos derivate in: 0.1 with h = 0.01 = -0.105 \n",
      "\n",
      "Sin derivate in: 0.1 with h = 1e-30 = 0.0\n",
      "Cos derivate in: 0.1 with h = 1e-30 = 0.0 \n",
      "\n",
      "Sin derivate in: 0.01 with h = 0.1 = 0.998\n",
      "Cos derivate in: 0.01 with h = 0.1 = -0.06 \n",
      "\n",
      "Sin derivate in: 0.01 with h = 0.01 = 1.0\n",
      "Cos derivate in: 0.01 with h = 0.01 = -0.015 \n",
      "\n",
      "Sin derivate in: 0.01 with h = 1e-30 = 0.0\n",
      "Cos derivate in: 0.01 with h = 1e-30 = 0.0 \n",
      "\n",
      "Sin derivate in: 0 with h = 0.1 = 0.998\n",
      "Cos derivate in: 0 with h = 0.1 = -0.05 \n",
      "\n",
      "Sin derivate in: 0 with h = 0.01 = 1.0\n",
      "Cos derivate in: 0 with h = 0.01 = -0.005 \n",
      "\n",
      "Sin derivate in: 0 with h = 1e-30 = 1.0\n",
      "Cos derivate in: 0 with h = 1e-30 = 0.0 \n",
      "\n"
     ]
    }
   ],
   "source": [
    "#Derivada del sen(x)\n",
    "\n",
    "xArr = [1,0.5,0.1,0.01,0]\n",
    "hArr = [10**-1,10**-2,10**(-30)]\n",
    "\n",
    "def derivateSin(x,h):\n",
    "    return (math.sin(x+h) - math.sin(x))/h\n",
    "\n",
    "def derivateCos(x,h):\n",
    "     return (math.cos(x+h) - math.cos(x))/h\n",
    "\n",
    "for x in xArr:\n",
    "    for h in hArr:\n",
    "        print('Sin derivate in:',x, 'with h =',h,'=',round(derivateSin(x,h),3))\n",
    "        print('Cos derivate in:',x, 'with h =',h,'=',round(derivateCos(x,h),3),'\\n')\n"
   ]
  }
 ],
 "metadata": {
  "kernelspec": {
   "display_name": "Python 3",
   "language": "python",
   "name": "python3"
  },
  "language_info": {
   "codemirror_mode": {
    "name": "ipython",
    "version": 3
   },
   "file_extension": ".py",
   "mimetype": "text/x-python",
   "name": "python",
   "nbconvert_exporter": "python",
   "pygments_lexer": "ipython3",
   "version": "3.8.5"
  }
 },
 "nbformat": 4,
 "nbformat_minor": 4
}
