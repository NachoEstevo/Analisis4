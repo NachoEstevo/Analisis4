{
 "cells": [
  {
   "cell_type": "markdown",
   "metadata": {},
   "source": [
    "<h1>Guia 1 Python Teoria de error</h1>"
   ]
  },
  {
   "cell_type": "code",
   "execution_count": 2,
   "metadata": {},
   "outputs": [],
   "source": [
    "import math"
   ]
  },
  {
   "cell_type": "code",
   "execution_count": 3,
   "metadata": {},
   "outputs": [
    {
     "name": "stdout",
     "output_type": "stream",
     "text": [
      "0.0012644892673496777\n"
     ]
    }
   ],
   "source": [
    "first = 22/7\n",
    "errOne = abs(math.pi - first)\n",
    "print(errOne)"
   ]
  },
  {
   "cell_type": "code",
   "execution_count": 4,
   "metadata": {},
   "outputs": [
    {
     "name": "stdout",
     "output_type": "stream",
     "text": [
      "8.32196275291075e-05\n"
     ]
    }
   ],
   "source": [
    "second = 333/106\n",
    "errTwo = abs(math.pi - second)\n",
    "print(errTwo)"
   ]
  },
  {
   "cell_type": "code",
   "execution_count": 5,
   "metadata": {},
   "outputs": [
    {
     "name": "stdout",
     "output_type": "stream",
     "text": [
      "2.667641894049666e-07\n"
     ]
    }
   ],
   "source": [
    "third = 355/113\n",
    "errThree = abs(math.pi - third)\n",
    "print(errThree)"
   ]
  },
  {
   "cell_type": "markdown",
   "metadata": {},
   "source": [
    "Errores relativos y porcentuales  er(x) = e(x)/X  ejemplo 0.00059/3.141 ese es el relativo. Multiplicado por 100 da el porcentual "
   ]
  },
  {
   "cell_type": "code",
   "execution_count": 6,
   "metadata": {},
   "outputs": [
    {
     "name": "stdout",
     "output_type": "stream",
     "text": [
      "relative one:  0.0004024994347707008\n",
      "relative two:  2.648963016704766e-05\n",
      "relative three:  8.49136787674061e-08\n",
      "----------------------\n",
      "porcentual one:  0.04 %\n",
      "porcentual two:  0.003 %\n",
      "porcentual three:  0.0 %\n"
     ]
    }
   ],
   "source": [
    "relOne = errOne/math.pi\n",
    "relTwo = errTwo/math.pi\n",
    "relThree = errThree/math.pi\n",
    "\n",
    "print('relative one: ', relOne)\n",
    "print('relative two: ', relTwo)\n",
    "print('relative three: ', relThree)\n",
    "\n",
    "print('----------------------')\n",
    "\n",
    "print('porcentual one: ', round(relOne*100,3),'%')\n",
    "print('porcentual two: ', round(relTwo*100,3),'%')\n",
    "print('porcentual three: ', round(relThree*100,3),'%')\n"
   ]
  },
  {
   "cell_type": "markdown",
   "metadata": {},
   "source": [
    "Calculo de error de otro numero irracional. e"
   ]
  },
  {
   "cell_type": "code",
   "execution_count": 7,
   "metadata": {},
   "outputs": [
    {
     "name": "stdout",
     "output_type": "stream",
     "text": [
      "0.0017181715409551046\n",
      "Cotas:  2.718281828459045 < e < 2.7217181715409553\n"
     ]
    }
   ],
   "source": [
    "firstE = 2.72\n",
    "errOneE = abs(math.e - firstE)\n",
    "print(errOneE)\n",
    "print('Cotas: ',firstE-errOneE,'< e <',firstE + errOneE)"
   ]
  },
  {
   "cell_type": "code",
   "execution_count": 8,
   "metadata": {},
   "outputs": [
    {
     "name": "stdout",
     "output_type": "stream",
     "text": [
      "0.0002818284590451192\n",
      "Cotas:  2.717718171540955 < e < 2.718281828459045\n"
     ]
    }
   ],
   "source": [
    "secondE = 2.718\n",
    "errTwoE = abs(math.e - secondE)\n",
    "print(errTwoE)\n",
    "print('Cotas: ',secondE-errTwoE,'< e <',secondE + errTwoE)"
   ]
  },
  {
   "cell_type": "code",
   "execution_count": 9,
   "metadata": {},
   "outputs": [
    {
     "name": "stdout",
     "output_type": "stream",
     "text": [
      "1.8171540955069787e-05\n",
      "Cotas:  2.718281828459045 < e < 2.7183181715409552\n"
     ]
    }
   ],
   "source": [
    "thirdE = 2.7183\n",
    "errThreeE = abs(math.e - thirdE)\n",
    "print(errThreeE)\n",
    "print('Cotas: ',thirdE-errThreeE,'< e <',thirdE + errThreeE)"
   ]
  },
  {
   "cell_type": "code",
   "execution_count": 10,
   "metadata": {},
   "outputs": [
    {
     "name": "stdout",
     "output_type": "stream",
     "text": [
      "relative one:  0.0006320799863232398\n",
      "relative two:  0.00010367889601972718\n",
      "relative three:  6.684936331775051e-06\n",
      "----------------------\n",
      "porcentual one:  0.063 %\n",
      "porcentual two:  0.01 %\n",
      "porcentual three:  0.001 %\n"
     ]
    }
   ],
   "source": [
    "relOneE = errOneE/math.e\n",
    "relTwoE = errTwoE/math.e\n",
    "relThreeE = errThreeE/math.e\n",
    "\n",
    "print('relative one: ', relOneE)\n",
    "print('relative two: ', relTwoE)\n",
    "print('relative three: ', relThreeE)\n",
    "\n",
    "print('----------------------')\n",
    "\n",
    "print('porcentual one: ', round(relOneE*100,3),'%')\n",
    "print('porcentual two: ', round(relTwoE*100,3),'%')\n",
    "print('porcentual three: ', round(relThreeE*100,3),'%')"
   ]
  },
  {
   "cell_type": "code",
   "execution_count": null,
   "metadata": {},
   "outputs": [],
   "source": []
  },
  {
   "cell_type": "markdown",
   "metadata": {},
   "source": [
    "<h2>Ejercicio 2</h2>"
   ]
  },
  {
   "cell_type": "markdown",
   "metadata": {},
   "source": [
    "En 1862 el fisico Foucault, utilizando un espejo giratorio, calculo en 298000 km/s la velocidad\n",
    "de la luz. Aceptando como exacta la velocidad de 299776 km/s, calcular el error absoluto y el\n",
    "error relativo cometido por Foucault.\n",
    "Por otra parte, la determinacion de la constante universal h, que desempena un papel central\n",
    "en la teoria de la mecanica cuantica, realizada por Planck en 1913 dio el valor de 6.41 x 10-27\n",
    "erg por seg. Adoptando el valor de 6.623 x 10-27 erg por seg, calcular el error absoluto y relativo\n",
    "cometido por Planck.\n",
    ".Que medida tiene menor error absoluto? .Cual es mas precisa?\n"
   ]
  },
  {
   "cell_type": "code",
   "execution_count": 11,
   "metadata": {},
   "outputs": [
    {
     "name": "stdout",
     "output_type": "stream",
     "text": [
      "1776\n",
      "0.005924423569598634\n",
      "0.592 %\n"
     ]
    }
   ],
   "source": [
    "lSpeedFoucalt = 298000\n",
    "lSpeed = 299776\n",
    "\n",
    "absError = abs(lSpeed - lSpeedFoucalt)\n",
    "print(absError)\n",
    "\n",
    "relError = absError/lSpeed\n",
    "print(relError)\n",
    "\n",
    "percentError = relError*100\n",
    "print(round(percentError,3),'%')"
   ]
  },
  {
   "cell_type": "code",
   "execution_count": 12,
   "metadata": {},
   "outputs": [
    {
     "name": "stdout",
     "output_type": "stream",
     "text": [
      "2.1300000000000006e-28\n",
      "0.03216065227238413\n",
      "3.216 %\n"
     ]
    }
   ],
   "source": [
    "planck = 6.41*(10**-27)\n",
    "realConstant = 6.623*(10**-27)\n",
    "\n",
    "absError2 = abs(realConstant - planck)\n",
    "print(absError2)\n",
    "\n",
    "relError2 = absError2/realConstant\n",
    "print(relError2)\n",
    "\n",
    "percentError2 = relError2*100\n",
    "print(round(percentError2,3),'%')"
   ]
  },
  {
   "cell_type": "markdown",
   "metadata": {},
   "source": [
    "The approximation for the speed of light, made by Foucault was 2.624% more accurate than the one made by Planck"
   ]
  },
  {
   "cell_type": "markdown",
   "metadata": {},
   "source": [
    "<h2>Ejercicio 3</h2>"
   ]
  },
  {
   "cell_type": "code",
   "execution_count": 13,
   "metadata": {},
   "outputs": [
    {
     "name": "stdout",
     "output_type": "stream",
     "text": [
      "2.5937424601000023\n",
      "absolute error: 0.12453936835904278\n"
     ]
    }
   ],
   "source": [
    "#Approximate e with the limit\n",
    "def aproxE(n):\n",
    "   return((1+1/n)**n)\n",
    "\n",
    "val1 = aproxE(10)\n",
    "print(val1)\n",
    "\n",
    "absErr1 = abs(math.e - val1)\n",
    "print('absolute error:',absErr1)"
   ]
  },
  {
   "cell_type": "code",
   "execution_count": 14,
   "metadata": {},
   "outputs": [
    {
     "name": "stdout",
     "output_type": "stream",
     "text": [
      "2.7048138294215285\n",
      "absolute error: 0.01346799903751661\n"
     ]
    }
   ],
   "source": [
    "val2 = aproxE(100)\n",
    "print(val2)\n",
    "\n",
    "absErr2 = abs(math.e - val2)\n",
    "print('absolute error:',absErr2)"
   ]
  },
  {
   "cell_type": "code",
   "execution_count": 15,
   "metadata": {},
   "outputs": [
    {
     "name": "stdout",
     "output_type": "stream",
     "text": [
      "1.0\n",
      "absolute error: 1.718281828459045\n"
     ]
    }
   ],
   "source": [
    "val3 = aproxE(10**25) #Se aleja mas del valor esperado. Obtenemos e al resolver la indeterminacion cuando x tiende a inf\n",
    "print(val3)\n",
    "\n",
    "absErr3 = abs(math.e - val3)\n",
    "print('absolute error:',absErr3)"
   ]
  },
  {
   "cell_type": "markdown",
   "metadata": {},
   "source": [
    "<h2>Ejercicio 4</h2>"
   ]
  },
  {
   "cell_type": "code",
   "execution_count": 16,
   "metadata": {},
   "outputs": [
    {
     "name": "stdout",
     "output_type": "stream",
     "text": [
      "Sin derivate in: 1 with h = 0.1 = 0.497\n",
      "Cos derivate in: 1 with h = 0.1 = -0.867 \n",
      "\n",
      "Sin derivate in: 1 with h = 0.01 = 0.536\n",
      "Cos derivate in: 1 with h = 0.01 = -0.844 \n",
      "\n",
      "Sin derivate in: 1 with h = 1e-30 = 0.0\n",
      "Cos derivate in: 1 with h = 1e-30 = 0.0 \n",
      "\n",
      "Sin derivate in: 0.5 with h = 0.1 = 0.852\n",
      "Cos derivate in: 0.5 with h = 0.1 = -0.522 \n",
      "\n",
      "Sin derivate in: 0.5 with h = 0.01 = 0.875\n",
      "Cos derivate in: 0.5 with h = 0.01 = -0.484 \n",
      "\n",
      "Sin derivate in: 0.5 with h = 1e-30 = 0.0\n",
      "Cos derivate in: 0.5 with h = 1e-30 = 0.0 \n",
      "\n",
      "Sin derivate in: 0.1 with h = 0.1 = 0.988\n",
      "Cos derivate in: 0.1 with h = 0.1 = -0.149 \n",
      "\n",
      "Sin derivate in: 0.1 with h = 0.01 = 0.994\n",
      "Cos derivate in: 0.1 with h = 0.01 = -0.105 \n",
      "\n",
      "Sin derivate in: 0.1 with h = 1e-30 = 0.0\n",
      "Cos derivate in: 0.1 with h = 1e-30 = 0.0 \n",
      "\n",
      "Sin derivate in: 0.01 with h = 0.1 = 0.998\n",
      "Cos derivate in: 0.01 with h = 0.1 = -0.06 \n",
      "\n",
      "Sin derivate in: 0.01 with h = 0.01 = 1.0\n",
      "Cos derivate in: 0.01 with h = 0.01 = -0.015 \n",
      "\n",
      "Sin derivate in: 0.01 with h = 1e-30 = 0.0\n",
      "Cos derivate in: 0.01 with h = 1e-30 = 0.0 \n",
      "\n",
      "Sin derivate in: 0 with h = 0.1 = 0.998\n",
      "Cos derivate in: 0 with h = 0.1 = -0.05 \n",
      "\n",
      "Sin derivate in: 0 with h = 0.01 = 1.0\n",
      "Cos derivate in: 0 with h = 0.01 = -0.005 \n",
      "\n",
      "Sin derivate in: 0 with h = 1e-30 = 1.0\n",
      "Cos derivate in: 0 with h = 1e-30 = 0.0 \n",
      "\n"
     ]
    }
   ],
   "source": [
    "#Derivada del sen(x)\n",
    "\n",
    "xArr = [1,0.5,0.1,0.01,0]\n",
    "hArr = [10**-1,10**-2,10**(-30)]\n",
    "\n",
    "def derivateSin(x,h):\n",
    "    return (math.sin(x+h) - math.sin(x))/h\n",
    "\n",
    "def derivateCos(x,h):\n",
    "     return (math.cos(x+h) - math.cos(x))/h\n",
    "\n",
    "for x in xArr:\n",
    "    for h in hArr:\n",
    "        print('Sin derivate in:',x, 'with h =',h,'=',round(derivateSin(x,h),3))\n",
    "        print('Cos derivate in:',x, 'with h =',h,'=',round(derivateCos(x,h),3),'\\n')\n"
   ]
  },
  {
   "cell_type": "markdown",
   "metadata": {},
   "source": [
    "<h2>Ejercicio 5</h2>"
   ]
  },
  {
   "cell_type": "markdown",
   "metadata": {},
   "source": [
    "Escribir y probar un programa para calcular:\n",
    "        f(x) = sqrt(x^2 + 1)-1\n",
    "        g(x) = x^2/sqrt(x^2 + 1)-1\n",
    "para una sucesión de valores de x, como: 8^-1, 8^-2, 8^-3\n",
    "...Aunque f = g, la computadora dará resultados diferentes.\n",
    "¿Cuáles de los resultados son de fiar y cuáles no? "
   ]
  },
  {
   "cell_type": "code",
   "execution_count": 25,
   "metadata": {},
   "outputs": [
    {
     "name": "stdout",
     "output_type": "stream",
     "text": [
      "f( 0.125 ) =  0.0077822185373186414\n",
      "g( 0.125 ) =  -0.984495658176349\n",
      "\n",
      "\n",
      "f( 0.015625 ) =  0.00012206286282867573\n",
      "g( 0.015625 ) =  -0.9997558891718665\n",
      "\n",
      "\n",
      "f( 0.001953125 ) =  1.9073468138230965e-06\n",
      "g( 0.001953125 ) =  -0.9999961853100103\n",
      "\n",
      "\n"
     ]
    }
   ],
   "source": [
    "def f(x):\n",
    "    return math.sqrt(x**2 + 1)-1\n",
    "def g(x):\n",
    "    return x**2/math.sqrt(x**2 + 1)-1\n",
    "\n",
    "xArr = [8**-1,8**-2,8**-3]\n",
    "\n",
    "for x in xArr:\n",
    "    print('f(',x,') = ',f(x))\n",
    "    print('g(',x,') = ',g(x))\n",
    "    print('\\n')"
   ]
  },
  {
   "cell_type": "markdown",
   "metadata": {},
   "source": [
    "<h2>Ejercicio 6</h2>"
   ]
  },
  {
   "cell_type": "markdown",
   "metadata": {},
   "source": [
    "Usar la computadora para imprimir los valores de las funciones\n",
    "\n",
    "en 101 puntos igualmente espaciados y que cubran el intervalo [0.99, 1.01]. Calcular cada función en la\n",
    "forma en que está escrita. Observar que las tres funciones son matemáticamente idénticas. Explique\n",
    "porque no todos los valores son positivos. "
   ]
  },
  {
   "cell_type": "code",
   "execution_count": 36,
   "metadata": {},
   "outputs": [
    {
     "name": "stdout",
     "output_type": "stream",
     "text": [
      "0.9900 | f(x) =    1.7763568394002505e-15 | g(x) =   -1.1102230246251565e-15 | h(x) =    1.0000000000000071e-16\n",
      "0.9902 | f(x) =    -5.329070518200751e-15 | g(x) =    -5.329070518200751e-15 | h(x) =     8.507630225818071e-17\n",
      "0.9904 | f(x) =     5.329070518200751e-15 | g(x) =     5.551115123125783e-16 | h(x) =     7.213895789838654e-17\n",
      "0.9906 | f(x) =     4.440892098500626e-15 | g(x) =     3.219646771412954e-15 | h(x) =      6.09568938541063e-17\n",
      "0.9908 | f(x) =   -1.3322676295501878e-14 | g(x) =     9.325873406851315e-15 | h(x) =    5.1321887313755537e-17\n",
      "0.9910 | f(x) =     8.881784197001252e-16 | g(x) =     5.551115123125783e-15 | h(x) =    4.3046721000000306e-17\n",
      "0.9912 | f(x) =   -2.6645352591003757e-15 | g(x) =     4.107825191113079e-15 | h(x) =     3.596345248055394e-17\n",
      "0.9914 | f(x) =     4.440892098500626e-15 | g(x) =    -8.659739592076221e-15 | h(x) =     2.992179271066001e-17\n",
      "0.9916 | f(x) =     7.105427357601002e-15 | g(x) =     4.218847493575595e-15 | h(x) =     2.478758911082409e-17\n",
      "0.9918 | f(x) =    1.0658141036401503e-14 | g(x) =   -4.6629367034256575e-15 | h(x) =    2.0441408586549464e-17\n",
      "0.9920 | f(x) =   -1.0658141036401503e-14 | g(x) =    -6.661338147750939e-16 | h(x) =     1.677721600000012e-17\n",
      "0.9922 | f(x) =                       0.0 | g(x) =   -3.9968028886505635e-15 | h(x) =    1.3701143706831769e-17\n",
      "0.9924 | f(x) =     3.552713678800501e-15 | g(x) =    4.3298697960381105e-15 | h(x) =    1.1130347874550359e-17\n",
      "0.9926 | f(x) =    -4.440892098500626e-15 | g(x) =    1.1102230246251565e-15 | h(x) =     8.991947402037393e-18\n",
      "0.9928 | f(x) =    2.6645352591003757e-15 | g(x) =   -1.3322676295501878e-15 | h(x) =     7.222041363087233e-18\n",
      "0.9930 | f(x) =    2.6645352591003757e-15 | g(x) =    1.5543122344752192e-15 | h(x) =     5.764801000000041e-18\n",
      "0.9932 | f(x) =    -1.509903313490213e-14 | g(x) =    2.3314683517128287e-15 | h(x) =     4.571632396533912e-18\n",
      "0.9934 | f(x) =   -1.1546319456101628e-14 | g(x) =     1.887379141862766e-15 | h(x) =     3.600406062697179e-18\n",
      "0.9936 | f(x) =    1.7763568394002505e-15 | g(x) =   -1.7763568394002505e-15 | h(x) =    2.8147497671064238e-18\n",
      "0.9938 | f(x) =    -5.329070518200751e-15 | g(x) =    -8.881784197001252e-16 | h(x) =     2.183401055848913e-18\n",
      "0.9940 | f(x) =    -8.881784197001252e-15 | g(x) =     9.992007221626409e-16 | h(x) =     1.679616000000012e-18\n",
      "0.9942 | f(x) =   -1.7763568394002505e-15 | g(x) =   -3.3306690738754696e-15 | h(x) =    1.2806308171802084e-18\n",
      "0.9944 | f(x) =     5.329070518200751e-15 | g(x) =     6.661338147750939e-16 | h(x) =     9.671731157402282e-19\n",
      "0.9946 | f(x) =     4.440892098500626e-15 | g(x) =    1.2212453270876722e-15 | h(x) =     7.230196133913176e-19\n",
      "0.9948 | f(x) =    -9.769962616701378e-15 | g(x) =     5.551115123125783e-16 | h(x) =     5.345972853145455e-19\n",
      "0.9950 | f(x) =     8.881784197001252e-16 | g(x) =    3.6637359812630166e-15 | h(x) =     3.906250000000028e-19\n",
      "0.9952 | f(x) =     8.881784197001252e-16 | g(x) =     9.658940314238862e-15 | h(x) =    2.8179280429057243e-19\n",
      "0.9954 | f(x) =     1.509903313490213e-14 | g(x) =    -3.774758283725532e-15 | h(x) =     2.004761223193769e-19\n",
      "0.9956 | f(x) =    -3.552713678800501e-15 | g(x) =   -1.9984014443252818e-15 | h(x) =    1.4048223625214965e-19\n",
      "0.9958 | f(x) =     3.552713678800501e-15 | g(x) =    -4.884981308350689e-15 | h(x) =      9.68265199641566e-20\n",
      "0.9960 | f(x) =     3.552713678800501e-15 | g(x) =    -3.552713678800501e-15 | h(x) =     6.553600000000046e-20\n",
      "0.9962 | f(x) =     3.552713678800501e-15 | g(x) =   -3.9968028886505635e-15 | h(x) =     4.347792138496234e-20\n",
      "0.9964 | f(x) =     7.105427357601002e-15 | g(x) =    -4.440892098500626e-16 | h(x) =     2.821109907456298e-20\n",
      "0.9966 | f(x) =    -8.881784197001252e-16 | g(x) =   -3.3306690738754696e-15 | h(x) =     1.785793904895826e-20\n",
      "0.9968 | f(x) =    2.6645352591003757e-15 | g(x) =    -2.886579864025407e-15 | h(x) =    1.0995116277759468e-20\n",
      "0.9970 | f(x) =     1.687538997430238e-14 | g(x) =    1.1102230246251565e-15 | h(x) =    6.5610000000000466e-21\n",
      "0.9972 | f(x) =    2.6645352591003757e-15 | g(x) =   -3.3306690738754696e-15 | h(x) =     3.778019983360266e-21\n",
      "0.9974 | f(x) =    -7.993605777301127e-15 | g(x) =                       0.0 | h(x) =    2.0882706457603003e-21\n",
      "0.9976 | f(x) =   -1.2434497875801753e-14 | g(x) =   -3.1086244689504383e-15 | h(x) =    1.1007531417598449e-21\n",
      "0.9978 | f(x) =    1.7763568394002505e-15 | g(x) =     5.440092820663267e-15 | h(x) =     5.487587353599596e-22\n",
      "0.9980 | f(x) =    1.7763568394002505e-15 | g(x) =    1.0103029524088925e-14 | h(x) =     2.560000000000018e-22\n",
      "0.9982 | f(x) =   -1.7763568394002505e-15 | g(x) =    -2.220446049250313e-16 | h(x) =    1.1019960576001165e-22\n",
      "0.9984 | f(x) =     5.329070518200751e-15 | g(x) =    -6.661338147750939e-16 | h(x) =     4.294967296000984e-23\n",
      "0.9986 | f(x) =     7.993605777301127e-15 | g(x) =     8.659739592076221e-15 | h(x) =     1.475789055999636e-23\n",
      "0.9988 | f(x) =     4.440892098500626e-15 | g(x) =     2.220446049250313e-15 | h(x) =     4.299816959999394e-24\n",
      "0.9990 | f(x) =     8.881784197001252e-16 | g(x) =     -8.43769498715119e-15 | h(x) =     1.000000000000007e-24\n",
      "0.9992 | f(x) =   -2.6645352591003757e-15 | g(x) =   -1.9984014443252818e-15 | h(x) =    1.6777216000003844e-25\n",
      "0.9994 | f(x) =     8.881784197001252e-16 | g(x) =     5.773159728050814e-15 | h(x) =    1.6796160000010065e-26\n",
      "0.9996 | f(x) =    -7.105427357601002e-15 | g(x) =   -3.9968028886505635e-15 | h(x) =     6.553599999994226e-28\n",
      "0.9998 | f(x) =    -7.105427357601002e-15 | g(x) =    -5.551115123125783e-15 | h(x) =    2.5599999999977444e-30\n",
      "1.0000 | f(x) =                       0.0 | g(x) =                       0.0 | h(x) =                       0.0\n",
      "1.0002 | f(x) =                       0.0 | g(x) =     4.773959005888173e-15 | h(x) =    2.5599999999977444e-30\n",
      "1.0004 | f(x) =   -1.0658141036401503e-14 | g(x) =   -6.8833827526759706e-15 | h(x) =     6.553599999994226e-28\n",
      "1.0006 | f(x) =     3.552713678800501e-15 | g(x) =    -6.661338147750939e-15 | h(x) =      1.67961599999852e-26\n",
      "1.0008 | f(x) =    1.4210854715202004e-14 | g(x) =    -4.884981308350689e-15 | h(x) =    1.6777215999985218e-25\n",
      "1.0010 | f(x) =   -1.0658141036401503e-14 | g(x) =     8.215650382226158e-15 | h(x) =     9.999999999991189e-25\n",
      "1.0012 | f(x) =     5.329070518200751e-15 | g(x) =    -6.661338147750939e-15 | h(x) =     4.299816960002577e-24\n",
      "1.0014 | f(x) =   -1.7763568394002505e-15 | g(x) =      8.43769498715119e-15 | h(x) =    1.4757890560005722e-23\n",
      "1.0016 | f(x) =     5.329070518200751e-15 | g(x) =     9.992007221626409e-16 | h(x) =     4.294967296000984e-23\n",
      "1.0018 | f(x) =     8.881784197001252e-15 | g(x) =     6.328271240363392e-15 | h(x) =    1.1019960576001165e-22\n",
      "1.0020 | f(x) =     5.329070518200751e-15 | g(x) =     2.220446049250313e-16 | h(x) =     2.560000000000018e-22\n",
      "1.0022 | f(x) =    1.7763568394002505e-15 | g(x) =    -5.995204332975845e-15 | h(x) =     5.487587353599596e-22\n",
      "1.0024 | f(x) =    1.9539925233402755e-14 | g(x) =     9.992007221626409e-16 | h(x) =    1.1007531417598449e-21\n",
      "1.0026 | f(x) =    1.7763568394002505e-15 | g(x) =   -1.5543122344752192e-15 | h(x) =    2.0882706457595867e-21\n",
      "1.0028 | f(x) =     5.329070518200751e-15 | g(x) =   -3.1086244689504383e-15 | h(x) =     3.778019983359068e-21\n",
      "1.0030 | f(x) =   -1.7763568394002505e-15 | g(x) =    1.3322676295501878e-15 | h(x) =     6.560999999998104e-21\n",
      "1.0032 | f(x) =    1.4210854715202004e-14 | g(x) =    -5.329070518200751e-15 | h(x) =     1.099511627776252e-20\n",
      "1.0034 | f(x) =    -3.552713678800501e-15 | g(x) =    -5.995204332975845e-15 | h(x) =    1.7857939048962925e-20\n",
      "1.0036 | f(x) =    -3.552713678800501e-15 | g(x) =    -2.886579864025407e-15 | h(x) =     2.821109907456298e-20\n",
      "1.0038 | f(x) =    -3.552713678800501e-15 | g(x) =    -2.886579864025407e-15 | h(x) =     4.347792138496234e-20\n",
      "1.0040 | f(x) =     3.552713678800501e-15 | g(x) =   -1.7763568394002505e-15 | h(x) =     6.553600000000046e-20\n",
      "1.0042 | f(x) =     3.552713678800501e-15 | g(x) =     6.217248937900877e-15 | h(x) =      9.68265199641566e-20\n",
      "1.0044 | f(x) =   -1.0658141036401503e-14 | g(x) =     6.661338147750939e-16 | h(x) =    1.4048223625214965e-19\n",
      "1.0046 | f(x) =     3.552713678800501e-15 | g(x) =      2.55351295663786e-15 | h(x) =     2.004761223193382e-19\n",
      "1.0048 | f(x) =                       0.0 | g(x) =     8.881784197001252e-16 | h(x) =     2.817928042905203e-19\n",
      "1.0050 | f(x) =    1.0658141036401503e-14 | g(x) =    1.1102230246251565e-15 | h(x) =     3.906249999999334e-19\n",
      "1.0052 | f(x) =    1.7763568394002505e-15 | g(x) =     3.885780586188048e-15 | h(x) =     5.345972853146369e-19\n",
      "1.0054 | f(x) =     5.329070518200751e-15 | g(x) =     5.662137425588298e-15 | h(x) =     7.230196133914365e-19\n",
      "1.0056 | f(x) =     8.881784197001252e-15 | g(x) =   -3.1086244689504383e-15 | h(x) =     9.671731157402282e-19\n",
      "1.0058 | f(x) =   -1.9539925233402755e-14 | g(x) =    -6.661338147750939e-16 | h(x) =    1.2806308171802084e-18\n",
      "1.0060 | f(x) =   -1.2434497875801753e-14 | g(x) =   -2.4424906541753444e-15 | h(x) =     1.679616000000012e-18\n",
      "1.0062 | f(x) =     5.329070518200751e-15 | g(x) =   -2.6645352591003757e-15 | h(x) =     2.183401055848913e-18\n",
      "1.0064 | f(x) =   -1.2434497875801753e-14 | g(x) =    -2.220446049250313e-15 | h(x) =    2.8147497671064238e-18\n",
      "1.0066 | f(x) =    1.9539925233402755e-14 | g(x) =    -8.881784197001252e-16 | h(x) =     3.600406062696695e-18\n",
      "1.0068 | f(x) =    -5.329070518200751e-15 | g(x) =    -3.774758283725532e-15 | h(x) =     4.571632396533315e-18\n",
      "1.0070 | f(x) =   -1.5987211554602254e-14 | g(x) =     5.551115123125783e-15 | h(x) =    5.7648009999993096e-18\n",
      "1.0072 | f(x) =    1.0658141036401503e-14 | g(x) =   -1.7763568394002505e-15 | h(x) =     7.222041363088123e-18\n",
      "1.0074 | f(x) =    -3.552713678800501e-15 | g(x) =   -3.3306690738754696e-15 | h(x) =     8.991947402038471e-18\n",
      "1.0076 | f(x) =    -3.552713678800501e-15 | g(x) =   -1.1102230246251565e-15 | h(x) =    1.1130347874550359e-17\n",
      "1.0078 | f(x) =    -7.105427357601002e-15 | g(x) =     7.771561172376096e-16 | h(x) =    1.3701143706831769e-17\n",
      "1.0080 | f(x) =                       0.0 | g(x) =    2.6645352591003757e-15 | h(x) =     1.677721600000012e-17\n",
      "1.0082 | f(x) =    1.4210854715202004e-14 | g(x) =     4.551914400963142e-15 | h(x) =    2.0441408586549464e-17\n",
      "1.0084 | f(x) =     3.552713678800501e-15 | g(x) =   -2.4424906541753444e-15 | h(x) =     2.478758911082409e-17\n",
      "1.0086 | f(x) =    -7.105427357601002e-15 | g(x) =     6.328271240363392e-15 | h(x) =    2.9921792710656916e-17\n",
      "1.0088 | f(x) =   -1.4210854715202004e-14 | g(x) =     4.551914400963142e-15 | h(x) =     3.596345248055031e-17\n",
      "1.0090 | f(x) =                       0.0 | g(x) =    2.4424906541753444e-15 | h(x) =     4.304672099999606e-17\n",
      "1.0092 | f(x) =   -1.7763568394002505e-15 | g(x) =     -5.10702591327572e-15 | h(x) =    5.1321887313760485e-17\n",
      "1.0094 | f(x) =    1.7763568394002505e-15 | g(x) =   -1.1102230246251565e-15 | h(x) =     6.095689385411205e-17\n",
      "1.0096 | f(x) =     8.881784197001252e-15 | g(x) =   -1.3322676295501878e-15 | h(x) =     7.213895789838654e-17\n",
      "1.0098 | f(x) =    1.2434497875801753e-14 | g(x) =     8.770761894538737e-15 | h(x) =     8.507630225818071e-17\n",
      "1.0100 | f(x) =   -1.2434497875801753e-14 | g(x) =     8.881784197001252e-16 | h(x) =    1.0000000000000071e-16\n"
     ]
    }
   ],
   "source": [
    "\n",
    "def f(x):\n",
    "    return x**8 - 8*x**7 + 28*x**6 - 56*x** 5 + 70*x** 4 -56*x** 3 + 28*x**2 - 8*x + 1\n",
    "\n",
    "def g(x):\n",
    "    return (((((((x-8)*x + 28)*x - 56)*x + 70)*x - 56)*x + 28)*x - 8)*x + 1\n",
    "\n",
    "def h(x):\n",
    "    return (x - 1)**8\n",
    "\n",
    "for i in range(0, 101):\n",
    "    x = 0.99 + i*0.0002\n",
    "    print(\"%.4f | f(x) = %25s | g(x) = %25s | h(x) = %25s\" % (x, f(x), g(x), h(x)))\n"
   ]
  },
  {
   "cell_type": "markdown",
   "metadata": {},
   "source": [
    "<h2>Ejercicio 8</h2>"
   ]
  },
  {
   "cell_type": "markdown",
   "metadata": {},
   "source": [
    "Formula Cuadratica: Haga un programa que evalúe las raíces con el primer algoritmo y con el segundo para\n",
    "x^2 + bx + 1 =0\n",
    "con b = 10, 100, 1000, 10000... Discutir los resultados obtenidos."
   ]
  },
  {
   "cell_type": "code",
   "execution_count": 41,
   "metadata": {},
   "outputs": [],
   "source": [
    "def quadratic(a, b, c):\n",
    "    x1 = (-b + math.sqrt(b ** 2 - 4 * a * c)) / (2.0 * a)\n",
    "    x2 = (-b - math.sqrt(b ** 2 - 4 * a * c)) / (2.0 * a)\n",
    "    return x1, x2\n",
    "\n",
    "def improved_Quadratic(a, b, c):\n",
    "    x2 = (-b - math.sqrt(b ** 2 - 4 * a * c)) / (2.0 * a)\n",
    "    x1 = c / (a*x2)\n",
    "    return round(x1,4), round(x2,4)"
   ]
  },
  {
   "cell_type": "code",
   "execution_count": 45,
   "metadata": {},
   "outputs": [
    {
     "name": "stdout",
     "output_type": "stream",
     "text": [
      "Ordinary quadratic formula:  (-0.016107237408967023, -62.083892762591034)\n",
      "Improved Quadratic:  (-0.0161, -62.0839)\n"
     ]
    }
   ],
   "source": [
    "print('Ordinary quadratic formula: ',quadratic(1, 62.10, 1))\n",
    "\n",
    "print('Improved Quadratic: ',improved_Quadratic(1, 62.10,1))"
   ]
  },
  {
   "cell_type": "code",
   "execution_count": 51,
   "metadata": {},
   "outputs": [
    {
     "name": "stdout",
     "output_type": "stream",
     "text": [
      "             10 | Quad: (-0.10102051443364424, -9.898979485566356) | Imp Quad:               (-0.101, -9.899)\n",
      "            100 | Quad: (-0.010001000200048793, -99.98999899979995) | Imp Quad:                (-0.01, -99.99)\n",
      "           1000 | Quad: (-0.0010000010000226212, -999.998999999) | Imp Quad:             (-0.001, -999.999)\n",
      "          10000 | Quad: (-0.00010000000111176632, -9999.999899999999) | Imp Quad:          (-0.0001, -9999.9999)\n",
      "         100000 | Quad: (-1.0000003385357559e-05, -99999.99999) | Imp Quad:              (-0.0, -100000.0)\n",
      "        1000000 | Quad: (-1.00000761449337e-06, -999999.999999) | Imp Quad:             (-0.0, -1000000.0)\n",
      "       10000000 | Quad: (-9.96515154838562e-08, -9999999.9999999) | Imp Quad:            (-0.0, -10000000.0)\n",
      "      100000000 | Quad: (-7.450580596923828e-09, -100000000.0) | Imp Quad:           (-0.0, -100000000.0)\n",
      "     1000000000 | Quad:           (0.0, -1000000000.0) | Imp Quad:          (-0.0, -1000000000.0)\n"
     ]
    }
   ],
   "source": [
    "for x in range(1, 10):\n",
    "    b = 10**x\n",
    "    print(\"%15s | Quad: %30s | Imp Quad: %30s\" % (b, quadratic(1,b,1), improved_Quadratic(1,b,1)))"
   ]
  },
  {
   "cell_type": "code",
   "execution_count": null,
   "metadata": {},
   "outputs": [],
   "source": []
  }
 ],
 "metadata": {
  "kernelspec": {
   "display_name": "Python 3",
   "language": "python",
   "name": "python3"
  },
  "language_info": {
   "codemirror_mode": {
    "name": "ipython",
    "version": 3
   },
   "file_extension": ".py",
   "mimetype": "text/x-python",
   "name": "python",
   "nbconvert_exporter": "python",
   "pygments_lexer": "ipython3",
   "version": "3.8.5"
  }
 },
 "nbformat": 4,
 "nbformat_minor": 4
}
